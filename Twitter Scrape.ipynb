{
 "cells": [
  {
   "cell_type": "markdown",
   "metadata": {},
   "source": [
    "# LEVERAGING SOCIAL MEDIA TO MAP DISASTERS"
   ]
  },
  {
   "cell_type": "markdown",
   "metadata": {},
   "source": [
    "# 1. Scraping Twitter"
   ]
  },
  {
   "cell_type": "code",
   "execution_count": 4,
   "metadata": {},
   "outputs": [],
   "source": [
    "# INSTALL PYTHON TWITTER\n",
    "# MORE INFO @ https://python-twitter.readthedocs.io/en/latest/installation.html\n",
    "import twitter"
   ]
  },
  {
   "cell_type": "code",
   "execution_count": 9,
   "metadata": {},
   "outputs": [],
   "source": [
    "#INSERT YOUR KEYS AND TOKENS PROVIDED ON TWITTER DEVELOPER ACCOUNT \n",
    "api = twitter.Api(consumer_key=\"APIKEY\",\n",
    "                  consumer_secret=\"APISECRETKEY\",\n",
    "                  access_token_key=\"ACCESSTOKEN\",\n",
    "                  access_token_secret=\"ACCESSTOKENSECRET\")"
   ]
  },
  {
   "cell_type": "code",
   "execution_count": 10,
   "metadata": {},
   "outputs": [],
   "source": [
    "#RUNNING A SEARCH ON TWITTER THROUGH A QUERY\n",
    "results_florence = api.GetSearch(\n",
    "    raw_query=\"q=%23huricaneflorence&src=tyah\")"
   ]
  },
  {
   "cell_type": "code",
   "execution_count": 11,
   "metadata": {},
   "outputs": [
    {
     "data": {
      "text/plain": [
       "[Status(ID=1046843755544887297, ScreenName=Relekka01, Created=Mon Oct 01 19:26:15 +0000 2018, Text='RT @MutualAid14: Update from Mutual Aid Disaster Relief \\n\\nOur distribution space on the north side opened 3 days ago and we have provided s…'),\n",
       " Status(ID=1046591371157606405, ScreenName=ChainCargo, Created=Mon Oct 01 02:43:22 +0000 2018, Text='RT @iTrucker_: Southeast Flooding Keeps Some Roads Closed, but Others Reopen https://t.co/YGF0LQwHd2 #floods #huricaneflorence #HurricaneFl…'),\n",
       " Status(ID=1045868942307340289, ScreenName=gracie__lablue, Created=Sat Sep 29 02:52:41 +0000 2018, Text='RT @Hurcn_Florence: It’s basically flavored water #huricaneFlorence #HurricaneFlorence2018 https://t.co/b3Gnx6j7ZC'),\n",
       " Status(ID=1045855521591316480, ScreenName=HenryGLaws, Created=Sat Sep 29 01:59:22 +0000 2018, Text='RT @MutualAid14: We are the first relief organization to get a supply plane into #Wilmington and distribute it directly to people in need.…'),\n",
       " Status(ID=1045825018683424769, ScreenName=RealXCWolf, Created=Fri Sep 28 23:58:09 +0000 2018, Text='Why did FFR come out while my house is underwater?!??! WHYYYYYYY!!!! 😭😭😭 #huricaneflorence #FusionfallRetro'),\n",
       " Status(ID=1045418095467212800, ScreenName=ForteJP_212, Created=Thu Sep 27 21:01:11 +0000 2018, Text='Excellent work by an excellent team! Proud to work with some of the best staff providing some of the best care for… https://t.co/hxsoLpPkjP'),\n",
       " Status(ID=1045361716748587008, ScreenName=HEAVENPROTECTO1, Created=Thu Sep 27 17:17:09 +0000 2018, Text='RT @PrayerRay: Prayer for Hurricane protection: https://t.co/RckJp6PMCd\\n#Prayer #huricaneFlorence #HurricaneFlorence https://t.co/5uDXYgLJr3'),\n",
       " Status(ID=1045247680002363393, ScreenName=DRSingletary2, Created=Thu Sep 27 09:44:01 +0000 2018, Text='Weather warfare.  NEXRAD.  Last pic was with #huricaneflorence coming in on us.  Sad world we live in bc 99% see th… https://t.co/JlgfhsJCIa'),\n",
       " Status(ID=1045132210716758017, ScreenName=freightnex, Created=Thu Sep 27 02:05:11 +0000 2018, Text='RT @iTrucker_: Southeast Flooding Keeps Some Roads Closed, but Others Reopen https://t.co/YGF0LQwHd2 #floods #huricaneflorence #HurricaneFl…'),\n",
       " Status(ID=1045131792213250048, ScreenName=AnyCargoX, Created=Thu Sep 27 02:03:31 +0000 2018, Text='RT @iTrucker_: Southeast Flooding Keeps Some Roads Closed, but Others Reopen https://t.co/YGF0LQwHd2 #floods #huricaneflorence #HurricaneFl…'),\n",
       " Status(ID=1045131665268527106, ScreenName=Cargo_Rex, Created=Thu Sep 27 02:03:01 +0000 2018, Text='RT @iTrucker_: Southeast Flooding Keeps Some Roads Closed, but Others Reopen https://t.co/YGF0LQwHd2 #floods #huricaneflorence #HurricaneFl…'),\n",
       " Status(ID=1045131262959194112, ScreenName=PawlowskiMario, Created=Thu Sep 27 02:01:25 +0000 2018, Text='RT @iTrucker_: Southeast Flooding Keeps Some Roads Closed, but Others Reopen https://t.co/YGF0LQwHd2 #floods #huricaneflorence #HurricaneFl…'),\n",
       " Status(ID=1045130851401502721, ScreenName=EthingHurricane, Created=Thu Sep 27 01:59:47 +0000 2018, Text='RT @iTrucker_: Southeast Flooding Keeps Some Roads Closed, but Others Reopen https://t.co/YGF0LQwHd2 #floods #huricaneflorence #HurricaneFl…'),\n",
       " Status(ID=1045130664507568128, ScreenName=iTrucker_, Created=Thu Sep 27 01:59:02 +0000 2018, Text='Southeast Flooding Keeps Some Roads Closed, but Others Reopen https://t.co/YGF0LQwHd2 #floods #huricaneflorence… https://t.co/A0uqw5swwj'),\n",
       " Status(ID=1045092622119948288, ScreenName=C_Coolidge, Created=Wed Sep 26 23:27:52 +0000 2018, Text='RT @john_drescher: OPINION. More intense weather from climate change is going to put more pressure on dams at Jordan and Falls lakes. https…')]"
      ]
     },
     "execution_count": 11,
     "metadata": {},
     "output_type": "execute_result"
    }
   ],
   "source": [
    "results_florence"
   ]
  },
  {
   "cell_type": "code",
   "execution_count": 12,
   "metadata": {},
   "outputs": [
    {
     "data": {
      "text/plain": [
       "[Status(ID=1046802880995442688, ScreenName=CoryTV, Created=Mon Oct 01 16:43:50 +0000 2018, Text='It’s on! #SwellbyRipple starts now. Catch the action here: https://t.co/v8d6ptY7E2 @ Terra Gallery &amp; Event Venue https://t.co/5w1Qujoi8e'),\n",
       " Status(ID=1046251566066544640, ScreenName=Awood45, Created=Sun Sep 30 04:13:06 +0000 2018, Text='Champagne in the membrane 🍾🍾 #ShowDodgers @ AT&amp;T Park https://t.co/yxn2oL5JJP'),\n",
       " Status(ID=1046578965153042434, ScreenName=Dutch_Oven45, Created=Mon Oct 01 01:54:04 +0000 2018, Text='It is literally true that you can succeed best and quickest by helping others to succeed.” -Napoleon Hill… https://t.co/OoCr7W5UA7'),\n",
       " Status(ID=1046862444658876417, ScreenName=paxxman, Created=Mon Oct 01 20:40:31 +0000 2018, Text=\"Let's Talk about Labor Panel Labor / Staffing Concerns in San  Francisco Bay Area Restaurants CUESA @cuesa /… https://t.co/xOdNj2lpHP\"),\n",
       " Status(ID=1046862167889338369, ScreenName=paxxman, Created=Mon Oct 01 20:39:25 +0000 2018, Text=\"Let's Talk about Labor Panel Labor / Staffing Concerns in San  Francisco Bay Area Restaurants CUESA @cuesa /… https://t.co/u3VEgp8tWh\"),\n",
       " Status(ID=1046862051166052358, ScreenName=EvanTahler, Created=Mon Oct 01 20:38:57 +0000 2018, Text='Sushirito is the best food in San Francisco. Change my mind. \\n\\n#sushi + #burrito = #sushirito @ Sushirrito https://t.co/dgTrrKwHpf'),\n",
       " Status(ID=1046861128977059841, ScreenName=SachiRoseDesign, Created=Mon Oct 01 20:35:17 +0000 2018, Text='Doin it and doin it and doin it well 🕺🏼 #thewingsf @ The Wing https://t.co/jmfdi028PI'),\n",
       " Status(ID=1046861097808977920, ScreenName=ejbloch, Created=Mon Oct 01 20:35:10 +0000 2018, Text='These working conditions are horrible 😎\\n\\nWe’re hiring btw. @salesforce https://t.co/4CdGi019Do'),\n",
       " Status(ID=1046860496509526017, ScreenName=BiggEazy3Thirty, Created=Mon Oct 01 20:32:46 +0000 2018, Text=\"I'm at Flower Power in San Francisco, CA https://t.co/P7Xaj73k3N\"),\n",
       " Status(ID=1046860141700603905, ScreenName=IntegralEros, Created=Mon Oct 01 20:31:22 +0000 2018, Text='Who’s yours? #perfectmatch #retrodaddies @ San Francisco, California https://t.co/Nl3u5GvquX'),\n",
       " Status(ID=1046859757313773569, ScreenName=StickyMoments, Created=Mon Oct 01 20:29:50 +0000 2018, Text='#pun #puns #punny #wordplay #stickymoments #comicstrip #doodle #postit #webcomic #funny #jokes #comicstrip #comic… https://t.co/q6u5bewJiF')]"
      ]
     },
     "execution_count": 12,
     "metadata": {},
     "output_type": "execute_result"
    }
   ],
   "source": [
    "#RUNNING A SEARCH THROUGH GEO LOCATION\n",
    "api.GetSearch(geocode=(\"37.781157\", \"-122.398720\", \"1mi\"))"
   ]
  },
  {
   "cell_type": "markdown",
   "metadata": {},
   "source": [
    "# 2. Data from Huricane Florence 2018"
   ]
  },
  {
   "cell_type": "markdown",
   "metadata": {},
   "source": [
    "#### Source:  https://tags.hawksey.info/"
   ]
  },
  {
   "cell_type": "code",
   "execution_count": 14,
   "metadata": {},
   "outputs": [],
   "source": [
    "import pandas as pd\n",
    "import numpy as np"
   ]
  },
  {
   "cell_type": "code",
   "execution_count": 19,
   "metadata": {},
   "outputs": [
    {
     "data": {
      "text/html": [
       "<div>\n",
       "<style scoped>\n",
       "    .dataframe tbody tr th:only-of-type {\n",
       "        vertical-align: middle;\n",
       "    }\n",
       "\n",
       "    .dataframe tbody tr th {\n",
       "        vertical-align: top;\n",
       "    }\n",
       "\n",
       "    .dataframe thead th {\n",
       "        text-align: right;\n",
       "    }\n",
       "</style>\n",
       "<table border=\"1\" class=\"dataframe\">\n",
       "  <thead>\n",
       "    <tr style=\"text-align: right;\">\n",
       "      <th></th>\n",
       "      <th>text</th>\n",
       "    </tr>\n",
       "  </thead>\n",
       "  <tbody>\n",
       "    <tr>\n",
       "      <th>0</th>\n",
       "      <td>RT @CoinLaundryAssn: The generosity of the Wil...</td>\n",
       "    </tr>\n",
       "    <tr>\n",
       "      <th>1</th>\n",
       "      <td>Our team on the ground in S.C. worked with @hu...</td>\n",
       "    </tr>\n",
       "    <tr>\n",
       "      <th>2</th>\n",
       "      <td>I spray myself down, over and over, practicall...</td>\n",
       "    </tr>\n",
       "    <tr>\n",
       "      <th>3</th>\n",
       "      <td>RT @DE_RandyW: Update on solar in NC after #Hu...</td>\n",
       "    </tr>\n",
       "    <tr>\n",
       "      <th>4</th>\n",
       "      <td>RT @DE_RandyW: Update on solar in NC after #Hu...</td>\n",
       "    </tr>\n",
       "  </tbody>\n",
       "</table>\n",
       "</div>"
      ],
      "text/plain": [
       "                                                text\n",
       "0  RT @CoinLaundryAssn: The generosity of the Wil...\n",
       "1  Our team on the ground in S.C. worked with @hu...\n",
       "2  I spray myself down, over and over, practicall...\n",
       "3  RT @DE_RandyW: Update on solar in NC after #Hu...\n",
       "4  RT @DE_RandyW: Update on solar in NC after #Hu..."
      ]
     },
     "execution_count": 19,
     "metadata": {},
     "output_type": "execute_result"
    }
   ],
   "source": [
    "tweets = pd.read_csv('./hurricane_florence_tweets.csv')\n",
    "tweets.drop(['Unnamed: 0'], axis=1, inplace=True)\n",
    "tweets.head()"
   ]
  },
  {
   "cell_type": "code",
   "execution_count": null,
   "metadata": {},
   "outputs": [],
   "source": []
  }
 ],
 "metadata": {
  "kernelspec": {
   "display_name": "Python 3",
   "language": "python",
   "name": "python3"
  },
  "language_info": {
   "codemirror_mode": {
    "name": "ipython",
    "version": 3
   },
   "file_extension": ".py",
   "mimetype": "text/x-python",
   "name": "python",
   "nbconvert_exporter": "python",
   "pygments_lexer": "ipython3",
   "version": "3.6.5"
  }
 },
 "nbformat": 4,
 "nbformat_minor": 2
}
